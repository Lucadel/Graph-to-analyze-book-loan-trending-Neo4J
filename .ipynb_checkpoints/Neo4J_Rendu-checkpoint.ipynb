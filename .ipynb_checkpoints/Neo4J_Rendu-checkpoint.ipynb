{
 "cells": [
  {
   "cell_type": "markdown",
   "metadata": {},
   "source": [
    "## Rendu Neo4J"
   ]
  },
  {
   "cell_type": "markdown",
   "metadata": {},
   "source": [
    "Luca Delanglade - Nicolas Lamy\n"
   ]
  },
  {
   "cell_type": "markdown",
   "metadata": {},
   "source": [
    "Notre étude porte sur les livres prêtés en bibliothèques à Paris. Notre dataset contient les informations relatives au pret de chaque document disponible à l'emprunt et comptabilise le nombre de prets enregistrés sur l'année 2017. Nous avons souhaité le compléter avec des données accesibles sur l'API Googlebook."
   ]
  },
  {
   "cell_type": "markdown",
   "metadata": {},
   "source": [
    "Notre travail s'organise autour de 3 notebook: <br>\n",
    "-notebook Data Preprocessing -- traitements éffectués en amont pour l'import sur Neo4J <br>\n",
    "-notebook Data Visualisation -- analyser la distribution des données et restreindre l'étude <br>\n",
    "-notebook Googlebook scrapping -- permet d'ajouter une colonne description au dataset <br>\n"
   ]
  },
  {
   "cell_type": "markdown",
   "metadata": {},
   "source": [
    "Nous avons restreint notre étude à la catégorie litterature, qui comptabilise le plus grand nombre de prets à l'année : 200 000 et nous sommes limités à un POC sur 1000 ouvrages, étant confronté à une limitation de 1000 requetes par jour via l'API Googlebook."
   ]
  },
  {
   "cell_type": "markdown",
   "metadata": {},
   "source": [
    "### Objectifs"
   ]
  },
  {
   "cell_type": "markdown",
   "metadata": {},
   "source": [
    "Nous souhaitons développer un outil de visualisation de type graphe permettant au public de faire une recherche sur la base du titre ou de l'auteur. La visualisation permet de renseigner le public sur la difficulté qu'il aura à emprunter chaque ouvrage et donnera accès à la description de l'ouvrage présent sur Googlebook."
   ]
  },
  {
   "cell_type": "code",
   "execution_count": 6,
   "metadata": {},
   "outputs": [
    {
     "data": {
      "text/html": [
       "<div>\n",
       "<style scoped>\n",
       "    .dataframe tbody tr th:only-of-type {\n",
       "        vertical-align: middle;\n",
       "    }\n",
       "\n",
       "    .dataframe tbody tr th {\n",
       "        vertical-align: top;\n",
       "    }\n",
       "\n",
       "    .dataframe thead th {\n",
       "        text-align: right;\n",
       "    }\n",
       "</style>\n",
       "<table border=\"1\" class=\"dataframe\">\n",
       "  <thead>\n",
       "    <tr style=\"text-align: right;\">\n",
       "      <th></th>\n",
       "      <th>Titre</th>\n",
       "      <th>sstitre</th>\n",
       "      <th>Auteur</th>\n",
       "      <th>Editeur</th>\n",
       "      <th>Date</th>\n",
       "      <th>prets</th>\n",
       "      <th>Nombre de prêts par exemplaire</th>\n",
       "      <th>exemplaires</th>\n",
       "      <th>localisations</th>\n",
       "      <th>Langue</th>\n",
       "      <th>cat</th>\n",
       "    </tr>\n",
       "  </thead>\n",
       "  <tbody>\n",
       "    <tr>\n",
       "      <td>0</td>\n",
       "      <td>La montagne des boeufs sauvages</td>\n",
       "      <td></td>\n",
       "      <td>Pierre Pelot</td>\n",
       "      <td>Hoëbeke</td>\n",
       "      <td>2010</td>\n",
       "      <td>10.0</td>\n",
       "      <td>3.333333</td>\n",
       "      <td>3.0</td>\n",
       "      <td>3.0</td>\n",
       "      <td>français</td>\n",
       "      <td>LFRA Litterature francaise</td>\n",
       "    </tr>\n",
       "    <tr>\n",
       "      <td>1</td>\n",
       "      <td>Fous de foot</td>\n",
       "      <td></td>\n",
       "      <td>Fanny Joly</td>\n",
       "      <td>Casterman</td>\n",
       "      <td>2007</td>\n",
       "      <td>3.0</td>\n",
       "      <td>3.000000</td>\n",
       "      <td>1.0</td>\n",
       "      <td>1.0</td>\n",
       "      <td>français</td>\n",
       "      <td>LFRA Litterature francaise</td>\n",
       "    </tr>\n",
       "    <tr>\n",
       "      <td>2</td>\n",
       "      <td>Un amour aussi grand que le désert de Gobi vu ...</td>\n",
       "      <td></td>\n",
       "      <td>Tilman Rammstedt</td>\n",
       "      <td>Piranha</td>\n",
       "      <td>2015</td>\n",
       "      <td>25.0</td>\n",
       "      <td>2.500000</td>\n",
       "      <td>10.0</td>\n",
       "      <td>10.0</td>\n",
       "      <td>français</td>\n",
       "      <td>LGER Litterature germanique</td>\n",
       "    </tr>\n",
       "    <tr>\n",
       "      <td>3</td>\n",
       "      <td>Une amie d'enfer</td>\n",
       "      <td></td>\n",
       "      <td>Jacqueline Wilson</td>\n",
       "      <td>Hachette jeunesse</td>\n",
       "      <td>1999</td>\n",
       "      <td>1.0</td>\n",
       "      <td>0.500000</td>\n",
       "      <td>2.0</td>\n",
       "      <td>2.0</td>\n",
       "      <td>français</td>\n",
       "      <td>LBRI Litterature britannique</td>\n",
       "    </tr>\n",
       "    <tr>\n",
       "      <td>4</td>\n",
       "      <td>La famille Kocourek déménage</td>\n",
       "      <td></td>\n",
       "      <td>Iva Procházková</td>\n",
       "      <td>Hachette jeunesse</td>\n",
       "      <td>1993</td>\n",
       "      <td>0.0</td>\n",
       "      <td>0.000000</td>\n",
       "      <td>1.0</td>\n",
       "      <td>1.0</td>\n",
       "      <td>français</td>\n",
       "      <td>LECE Litterature d'Europe centrale</td>\n",
       "    </tr>\n",
       "  </tbody>\n",
       "</table>\n",
       "</div>"
      ],
      "text/plain": [
       "                                               Titre sstitre  \\\n",
       "0                   La montagne des boeufs sauvages            \n",
       "1                                      Fous de foot            \n",
       "2  Un amour aussi grand que le désert de Gobi vu ...           \n",
       "3                                  Une amie d'enfer            \n",
       "4                      La famille Kocourek déménage            \n",
       "\n",
       "              Auteur            Editeur  Date  prets  \\\n",
       "0       Pierre Pelot            Hoëbeke  2010   10.0   \n",
       "1         Fanny Joly          Casterman  2007    3.0   \n",
       "2   Tilman Rammstedt            Piranha  2015   25.0   \n",
       "3  Jacqueline Wilson  Hachette jeunesse  1999    1.0   \n",
       "4    Iva Procházková  Hachette jeunesse  1993    0.0   \n",
       "\n",
       "   Nombre de prêts par exemplaire  exemplaires  localisations    Langue  \\\n",
       "0                        3.333333          3.0            3.0  français   \n",
       "1                        3.000000          1.0            1.0  français   \n",
       "2                        2.500000         10.0           10.0  français   \n",
       "3                        0.500000          2.0            2.0  français   \n",
       "4                        0.000000          1.0            1.0  français   \n",
       "\n",
       "                                  cat  \n",
       "0          LFRA Litterature francaise  \n",
       "1          LFRA Litterature francaise  \n",
       "2         LGER Litterature germanique  \n",
       "3        LBRI Litterature britannique  \n",
       "4  LECE Litterature d'Europe centrale  "
      ]
     },
     "execution_count": 6,
     "metadata": {},
     "output_type": "execute_result"
    }
   ],
   "source": [
    "import pandas as pd\n",
    "data_neo4J=pd.read_csv(\"data_litterature.csv\").drop(['Unnamed: 0'],axis=1)\n",
    "data_neo4J.head()"
   ]
  },
  {
   "cell_type": "markdown",
   "metadata": {},
   "source": [
    "préconiser des solutions destinées aux bibliothèques afin de répondre au mieux aux besoins de leurs lecteurs en agissant sur le nombre de localisations et sur le nombre d'exemplaires de chaque ouvrage."
   ]
  },
  {
   "cell_type": "code",
   "execution_count": null,
   "metadata": {},
   "outputs": [],
   "source": []
  }
 ],
 "metadata": {
  "kernelspec": {
   "display_name": "Python 3",
   "language": "python",
   "name": "python3"
  },
  "language_info": {
   "codemirror_mode": {
    "name": "ipython",
    "version": 3
   },
   "file_extension": ".py",
   "mimetype": "text/x-python",
   "name": "python",
   "nbconvert_exporter": "python",
   "pygments_lexer": "ipython3",
   "version": "3.7.4"
  }
 },
 "nbformat": 4,
 "nbformat_minor": 2
}
